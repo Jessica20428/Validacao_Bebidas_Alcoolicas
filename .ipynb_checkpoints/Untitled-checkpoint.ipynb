{
 "cells": [
  {
   "cell_type": "markdown",
   "id": "ff63f498",
   "metadata": {},
   "source": [
    "### Programa usando Inputs e Strings\n"
   ]
  },
  {
   "cell_type": "markdown",
   "id": "654ef7ed",
   "metadata": {},
   "source": [
    "A maioria das empresas trabalham com um Código para cada produto que possuem. A Hashtag&Drink, por exemplo, tem mais de 1.000 produtos e possui um código para cada produto. <br>\n",
    "Ex: Coca -> Código: BEB1300543 <br>\n",
    "Pepsi -> Código: BEB1300545 <br>\n",
    "Vinho Primitivo Lucarelli -> Código: BAC1546001 <br>\n",
    "Vodka Smirnoff -> Código: BAC17675002 <br>\n",
    "\n",
    "Repare que todas as bebidas não alcóolicas tem o início do Código \"BEB\" e todas as bebidas alcóolicas tem o início do código \"BAC\".\n",
    "\n",
    "Crie um programa de consulta de bebida que, dado um código qualquer, identifique se a bebida é alcóolica. O programa deve responder True para bebidas alcóolicas e False para bebidas não alcóolicas."
   ]
  },
  {
   "cell_type": "code",
   "execution_count": 2,
   "id": "930ec366",
   "metadata": {},
   "outputs": [
    {
     "name": "stdout",
     "output_type": "stream",
     "text": [
      "Insira o código da bebida: (Insira tudo em letra Maiúscula)BAC123456\n",
      "True\n"
     ]
    }
   ],
   "source": [
    "codigo = input('Insira o código da bebida: (Insira tudo em letra Maiúscula)')\n",
    "\n",
    "print('BAC' in codigo)"
   ]
  },
  {
   "cell_type": "markdown",
   "id": "eff4f46c",
   "metadata": {},
   "source": [
    "### Fazendo a verificação por IF, retornando com a mensagem se é Bebida Alcóolica ou não."
   ]
  },
  {
   "cell_type": "code",
   "execution_count": 3,
   "id": "ec9881ea",
   "metadata": {},
   "outputs": [
    {
     "name": "stdout",
     "output_type": "stream",
     "text": [
      "Insira o código da bebida: (Insira tudo em letra Maiúscula)BEB123456\n",
      "Bebida não Alcóolica\n"
     ]
    }
   ],
   "source": [
    "codigo = input('Insira o código da bebida: (Insira tudo em letra Maiúscula)')\n",
    "\n",
    "if 'BAC'in codigo:\n",
    "    print('Bebida Alcóolica')\n",
    "else:\n",
    "    print('Bebida não Alcóolica')\n"
   ]
  }
 ],
 "metadata": {
  "kernelspec": {
   "display_name": "Python 3 (ipykernel)",
   "language": "python",
   "name": "python3"
  },
  "language_info": {
   "codemirror_mode": {
    "name": "ipython",
    "version": 3
   },
   "file_extension": ".py",
   "mimetype": "text/x-python",
   "name": "python",
   "nbconvert_exporter": "python",
   "pygments_lexer": "ipython3",
   "version": "3.9.13"
  }
 },
 "nbformat": 4,
 "nbformat_minor": 5
}
